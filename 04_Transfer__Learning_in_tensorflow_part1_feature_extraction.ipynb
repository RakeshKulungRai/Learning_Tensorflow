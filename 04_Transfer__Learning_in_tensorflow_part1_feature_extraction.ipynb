{
  "nbformat": 4,
  "nbformat_minor": 0,
  "metadata": {
    "colab": {
      "provenance": [],
      "authorship_tag": "ABX9TyMrLeC1nlhjJwjdfs82Ts3U",
      "include_colab_link": true
    },
    "kernelspec": {
      "name": "python3",
      "display_name": "Python 3"
    },
    "language_info": {
      "name": "python"
    },
    "gpuClass": "standard",
    "accelerator": "GPU"
  },
  "cells": [
    {
      "cell_type": "markdown",
      "metadata": {
        "id": "view-in-github",
        "colab_type": "text"
      },
      "source": [
        "<a href=\"https://colab.research.google.com/github/RakeshKulungRai/Learning_Tensorflow/blob/main/04_Transfer__Learning_in_tensorflow_part1_feature_extraction.ipynb\" target=\"_parent\"><img src=\"https://colab.research.google.com/assets/colab-badge.svg\" alt=\"Open In Colab\"/></a>"
      ]
    },
    {
      "cell_type": "markdown",
      "source": [
        "#Transfe learning witht tesnsorflow part 1: Feature Extraction\n",
        "\n",
        "Transfer Learning is leveraging a working model's existing architecture and learnde patterns for our own problem.\n",
        "\n",
        "Therer are two main advandage:\n",
        "1. Can leverage an existing nn architecture proven to work on problems similar to our own.\n",
        "2. Can leverage a working neural network architecture which has already learned patterns on simmilar data to our own, then we can adapt those patterns to our own data\n"
      ],
      "metadata": {
        "id": "vAVvTL8JWgNL"
      }
    },
    {
      "cell_type": "code",
      "source": [
        "!nvidia-smi"
      ],
      "metadata": {
        "colab": {
          "base_uri": "https://localhost:8080/"
        },
        "id": "k_P8srxAabIq",
        "outputId": "4ef82b05-3051-4679-a680-32557e0b4c3b"
      },
      "execution_count": null,
      "outputs": [
        {
          "output_type": "stream",
          "name": "stdout",
          "text": [
            "Wed Feb 22 08:26:41 2023       \n",
            "+-----------------------------------------------------------------------------+\n",
            "| NVIDIA-SMI 510.47.03    Driver Version: 510.47.03    CUDA Version: 11.6     |\n",
            "|-------------------------------+----------------------+----------------------+\n",
            "| GPU  Name        Persistence-M| Bus-Id        Disp.A | Volatile Uncorr. ECC |\n",
            "| Fan  Temp  Perf  Pwr:Usage/Cap|         Memory-Usage | GPU-Util  Compute M. |\n",
            "|                               |                      |               MIG M. |\n",
            "|===============================+======================+======================|\n",
            "|   0  Tesla T4            Off  | 00000000:00:04.0 Off |                    0 |\n",
            "| N/A   52C    P0    26W /  70W |      0MiB / 15360MiB |      0%      Default |\n",
            "|                               |                      |                  N/A |\n",
            "+-------------------------------+----------------------+----------------------+\n",
            "                                                                               \n",
            "+-----------------------------------------------------------------------------+\n",
            "| Processes:                                                                  |\n",
            "|  GPU   GI   CI        PID   Type   Process name                  GPU Memory |\n",
            "|        ID   ID                                                   Usage      |\n",
            "|=============================================================================|\n",
            "|  No running processes found                                                 |\n",
            "+-----------------------------------------------------------------------------+\n"
          ]
        }
      ]
    },
    {
      "cell_type": "markdown",
      "source": [
        "## Downloading and becoming one with the data\n"
      ],
      "metadata": {
        "id": "bbFt1z26aqZS"
      }
    },
    {
      "cell_type": "code",
      "source": [
        "# get 10% of 10 food classes from food101\n",
        "import zipfile\n",
        "!wget https://storage.googleapis.com/ztm_tf_course/food_vision/10_food_classes_10_percent.zip\n",
        "zip_ref = zipfile.ZipFile('10_food_classes_10_percent.zip')\n",
        "zip_ref.extractall()\n",
        "zip_ref.close()"
      ],
      "metadata": {
        "colab": {
          "base_uri": "https://localhost:8080/"
        },
        "id": "GRAGZJrMbDgv",
        "outputId": "0420d299-a757-431b-9f0b-dd99b877f00a"
      },
      "execution_count": null,
      "outputs": [
        {
          "output_type": "stream",
          "name": "stdout",
          "text": [
            "--2023-02-22 08:26:41--  https://storage.googleapis.com/ztm_tf_course/food_vision/10_food_classes_10_percent.zip\n",
            "Resolving storage.googleapis.com (storage.googleapis.com)... 142.250.153.128, 142.250.145.128, 108.177.127.128, ...\n",
            "Connecting to storage.googleapis.com (storage.googleapis.com)|142.250.153.128|:443... connected.\n",
            "HTTP request sent, awaiting response... 200 OK\n",
            "Length: 168546183 (161M) [application/zip]\n",
            "Saving to: ‘10_food_classes_10_percent.zip’\n",
            "\n",
            "10_food_classes_10_ 100%[===================>] 160.74M  40.3MB/s    in 4.6s    \n",
            "\n",
            "2023-02-22 08:26:47 (34.9 MB/s) - ‘10_food_classes_10_percent.zip’ saved [168546183/168546183]\n",
            "\n"
          ]
        }
      ]
    },
    {
      "cell_type": "code",
      "source": [
        "import os\n",
        "for dirpath, dirnames, filenames in os.walk('10_food_classes_10_percent'):\n",
        "  print(f\"There are {len(dirnames)} directories and {len(filenames)} images in {dirpath}.\")"
      ],
      "metadata": {
        "colab": {
          "base_uri": "https://localhost:8080/"
        },
        "id": "Z-GGIfYDbcfN",
        "outputId": "7c6b2c2a-e736-4ef2-8a26-256fde6d61f6"
      },
      "execution_count": null,
      "outputs": [
        {
          "output_type": "stream",
          "name": "stdout",
          "text": [
            "There are 2 directories and 0 images in 10_food_classes_10_percent.\n",
            "There are 10 directories and 0 images in 10_food_classes_10_percent/test.\n",
            "There are 0 directories and 250 images in 10_food_classes_10_percent/test/fried_rice.\n",
            "There are 0 directories and 250 images in 10_food_classes_10_percent/test/sushi.\n",
            "There are 0 directories and 250 images in 10_food_classes_10_percent/test/chicken_curry.\n",
            "There are 0 directories and 250 images in 10_food_classes_10_percent/test/chicken_wings.\n",
            "There are 0 directories and 250 images in 10_food_classes_10_percent/test/pizza.\n",
            "There are 0 directories and 250 images in 10_food_classes_10_percent/test/steak.\n",
            "There are 0 directories and 250 images in 10_food_classes_10_percent/test/grilled_salmon.\n",
            "There are 0 directories and 250 images in 10_food_classes_10_percent/test/ramen.\n",
            "There are 0 directories and 250 images in 10_food_classes_10_percent/test/hamburger.\n",
            "There are 0 directories and 250 images in 10_food_classes_10_percent/test/ice_cream.\n",
            "There are 10 directories and 0 images in 10_food_classes_10_percent/train.\n",
            "There are 0 directories and 75 images in 10_food_classes_10_percent/train/fried_rice.\n",
            "There are 0 directories and 75 images in 10_food_classes_10_percent/train/sushi.\n",
            "There are 0 directories and 75 images in 10_food_classes_10_percent/train/chicken_curry.\n",
            "There are 0 directories and 75 images in 10_food_classes_10_percent/train/chicken_wings.\n",
            "There are 0 directories and 75 images in 10_food_classes_10_percent/train/pizza.\n",
            "There are 0 directories and 75 images in 10_food_classes_10_percent/train/steak.\n",
            "There are 0 directories and 75 images in 10_food_classes_10_percent/train/grilled_salmon.\n",
            "There are 0 directories and 75 images in 10_food_classes_10_percent/train/ramen.\n",
            "There are 0 directories and 75 images in 10_food_classes_10_percent/train/hamburger.\n",
            "There are 0 directories and 75 images in 10_food_classes_10_percent/train/ice_cream.\n"
          ]
        }
      ]
    },
    {
      "cell_type": "markdown",
      "source": [
        "## Creating data loaders (preparing the data)\n",
        "We'll use the `ImageDataGenerator` class to load in our images in batches."
      ],
      "metadata": {
        "id": "Csv6nhqfb390"
      }
    },
    {
      "cell_type": "code",
      "source": [
        "from tensorflow.keras.preprocessing.image import ImageDataGenerator\n",
        "IMAGE_SHAPE = (224,224)\n",
        "BATCH_SIZE = 32\n",
        "train_dir = \"10_food_classes_10_percent/train/\"\n",
        "test_dir = \"10_food_classes_10_percent/test/\"\n",
        "\n",
        "train_datagen = ImageDataGenerator(rescale=1/255.)\n",
        "test_datagen = ImageDataGenerator(rescale=1/255.)\n",
        "\n",
        "print(\"Trianing images\")\n",
        "train_data = train_datagen.flow_from_directory(train_dir,\n",
        "                                               target_size =  IMAGE_SHAPE,\n",
        "                                               batch_size =BATCH_SIZE,\n",
        "                                               class_mode =\"categorical\")\n",
        "print(\"Testing test images\")\n",
        "test_data = test_datagen.flow_from_directory(test_dir,\n",
        "                                             target_size= IMAGE_SHAPE,\n",
        "                                             batch_size= BATCH_SIZE,\n",
        "                                             class_mode=\"categorical\"\n",
        "                                             )\n"
      ],
      "metadata": {
        "colab": {
          "base_uri": "https://localhost:8080/"
        },
        "id": "ueU5oJjDchI-",
        "outputId": "334ede1f-b7f0-4745-c67b-6cde0ea31726"
      },
      "execution_count": null,
      "outputs": [
        {
          "output_type": "stream",
          "name": "stdout",
          "text": [
            "Trianing images\n",
            "Found 750 images belonging to 10 classes.\n",
            "Testing test images\n",
            "Found 2500 images belonging to 10 classes.\n"
          ]
        }
      ]
    },
    {
      "cell_type": "markdown",
      "source": [
        "## Setting up callbacks ( things to run whilst our model trains)\n",
        "\n",
        "Callbacks are extra funtionality you can add to your models to be performed during or agter training. Some of the modst popular callbacks:\n",
        "* Tracking experiments with the TensorBoard callback\n",
        "* Model checkpointing\n",
        "* Early stopping\n"
      ],
      "metadata": {
        "id": "mjT8a8fNd0os"
      }
    },
    {
      "cell_type": "code",
      "source": [
        "# Create TensorBoard callback (funtionized because we need to create a new one for each model)\n",
        "import datetime\n",
        "\n",
        "def create_tensorboard_callback(dir_name, experiment_name):\n",
        "  log_dir = dir_name +\"/\" + experiment_name + \"/\" + datetime.datetime.now().strftime(\"%Y%m%d-%H%M%S\")\n",
        "  tensorboard_callback = tf.keras.callbacks.TensorBoard(log_dir = log_dir)\n",
        "  print(f\"Saving TensorBoard log files to : {log_dir}\")\n",
        "  return tensorboard_callback"
      ],
      "metadata": {
        "id": "CJfbwh1qPJTE"
      },
      "execution_count": null,
      "outputs": []
    },
    {
      "cell_type": "markdown",
      "source": [
        "## Create Models using Tensorflow Hub\n",
        "Tensorflow hub is the repository of the trained machine learning model\n",
        "\n",
        "We can access pretrained from https://tfhub.dev\n",
        "\n",
        "Broising the TesnfoFlow Hub page and sorting for image classification we found followin feature vector model link \n",
        "https://tfhub.dev/tensorflow/efficientnet/b0/feature-vector/1"
      ],
      "metadata": {
        "id": "t7ihcJWXRKsT"
      }
    },
    {
      "cell_type": "code",
      "source": [
        "#Let's compare the following two models\n",
        "resnet_url = \"https://tfhub.dev/google/imagenet/resnet_v2_50/feature_vector/5\"\n",
        "efficientnet_url = \"https://tfhub.dev/tensorflow/efficientnet/b0/feature-vector/1\""
      ],
      "metadata": {
        "id": "T1RUpP1pRVzH"
      },
      "execution_count": null,
      "outputs": []
    },
    {
      "cell_type": "code",
      "source": [
        "import tensorflow as tf\n",
        "import tensorflow_hub as hub\n",
        "from tensorflow.keras import layers\n"
      ],
      "metadata": {
        "id": "T8mDN1MMVu_Q"
      },
      "execution_count": null,
      "outputs": []
    },
    {
      "cell_type": "code",
      "source": [
        "IMAGE_SHAPE +(3,)"
      ],
      "metadata": {
        "colab": {
          "base_uri": "https://localhost:8080/"
        },
        "id": "ZKrHNbjLW-qK",
        "outputId": "971e75b2-2ec1-4de8-dda8-ee866d423679"
      },
      "execution_count": null,
      "outputs": [
        {
          "output_type": "execute_result",
          "data": {
            "text/plain": [
              "(224, 224, 3)"
            ]
          },
          "metadata": {},
          "execution_count": 9
        }
      ]
    },
    {
      "cell_type": "code",
      "source": [
        "def create_model(model_url, num_classes =10):\n",
        "  \"\"\"\n",
        "  Take a tensorflow hub url and creates a keras sequential model with it.\n",
        "\n",
        "  args :\n",
        "  model_url (str): Tensorflow hub feature extration URL\n",
        "  num_classes(int) : Number of output neuraons in the output layer,\n",
        "   should be equal to number of target class, defalut 10,\n",
        "   returns \n",
        "      an uncompilf Keras Sequential model with model_url as feature extrator\n",
        "      layer and Dense output layer with num_classes output neurons.\n",
        "    \n",
        "  \"\"\"\n",
        "  feature_extractor_layer = hub.KerasLayer(model_url,\n",
        "                                          trainable=False,\n",
        "                                          name =\"feature_extraction_layer\",\n",
        "                                          input_shape=IMAGE_SHAPE +(3,)\n",
        "                                          )\n",
        "  # Create our model\n",
        "  model = tf.keras.Sequential([\n",
        "      feature_extractor_layer,\n",
        "      layers.Dense(num_classes, activation=\"softmax\", name =\"output_layer\")\n",
        "  ])\n",
        "  return model"
      ],
      "metadata": {
        "id": "i6fnpVTcV4oN"
      },
      "execution_count": null,
      "outputs": []
    },
    {
      "cell_type": "markdown",
      "source": [
        "### Creating and Testing ResNet Tensorflow Hub Feature Extraction model"
      ],
      "metadata": {
        "id": "dKx-xZl9X4Fo"
      }
    },
    {
      "cell_type": "code",
      "source": [
        "# Create Resnet Model\n",
        "\n",
        "resnet_model = create_model(resnet_url, num_classes= train_data.num_classes)"
      ],
      "metadata": {
        "id": "rzpPc4fGYEBY"
      },
      "execution_count": null,
      "outputs": []
    },
    {
      "cell_type": "code",
      "source": [
        "# Compile our resnet model\n",
        "resnet_model.compile(loss=\"categorical_crossentropy\",\n",
        "                     optimizer= tf.keras.optimizers.Adam(),\n",
        "                     metrics =[\"accuracy\"])"
      ],
      "metadata": {
        "id": "_wJY5A_3YVys"
      },
      "execution_count": null,
      "outputs": []
    },
    {
      "cell_type": "code",
      "source": [
        "# Lets's fit our ResNet model to the data \n",
        "resnet_history = resnet_model.fit(train_data,\n",
        "                                 epochs =5,\n",
        "                                 steps_per_epoch = len(train_data),\n",
        "                                 validation_data = test_data,\n",
        "                                 validation_steps= len(test_data),\n",
        "                                 callbacks =[create_tensorboard_callback(dir_name=\"tensorflow_hub\",\n",
        "                                                                         experiment_name=\"resnet50v2\")])"
      ],
      "metadata": {
        "colab": {
          "base_uri": "https://localhost:8080/"
        },
        "id": "jTe2KfWrZyom",
        "outputId": "88366ce3-8788-4091-9971-8a53d6ea5493"
      },
      "execution_count": null,
      "outputs": [
        {
          "output_type": "stream",
          "name": "stdout",
          "text": [
            "Saving TensorBoard log files to : tensorflow_hub/resnet50v2/20230222-092107\n",
            "Epoch 1/5\n",
            "24/24 [==============================] - 37s 1s/step - loss: 1.9698 - accuracy: 0.3427 - val_loss: 1.3065 - val_accuracy: 0.5776\n",
            "Epoch 2/5\n",
            "24/24 [==============================] - 24s 1s/step - loss: 0.9450 - accuracy: 0.7080 - val_loss: 0.9006 - val_accuracy: 0.7124\n",
            "Epoch 3/5\n",
            "24/24 [==============================] - 24s 1s/step - loss: 0.6378 - accuracy: 0.8240 - val_loss: 0.7901 - val_accuracy: 0.7452\n",
            "Epoch 4/5\n",
            "24/24 [==============================] - 17s 728ms/step - loss: 0.4913 - accuracy: 0.8640 - val_loss: 0.7264 - val_accuracy: 0.7588\n",
            "Epoch 5/5\n",
            "24/24 [==============================] - 17s 727ms/step - loss: 0.3884 - accuracy: 0.9133 - val_loss: 0.6887 - val_accuracy: 0.7700\n"
          ]
        }
      ]
    },
    {
      "cell_type": "markdown",
      "source": [
        "Wow \n",
        "Transfer learnninig feature extractor model out performed all of the previous models we built by hand a nd in a quicker training time and only 10% of the training examples"
      ],
      "metadata": {
        "id": "TVGuMuj0cI-L"
      }
    },
    {
      "cell_type": "code",
      "source": [
        "# Let's creat a funciton of loss curve\n",
        "import matplotlib.pyplot as plt\n",
        "def plot_loss_curves(history):\n",
        "  loss = history.history[\"loss\"]\n",
        "  val_loss = history.history['val_loss']\n",
        "\n",
        "  accuracy = history.history[\"accuracy\"]\n",
        "  val_accuracy = history.history [\"val_accuracy\"]\n",
        "  epochs = range(len(history.history[\"loss\"]))\n",
        "\n",
        "  #Plot loss\n",
        "  plt.plot(epochs,loss,label=\"training_loss\")\n",
        "  plt.plot(epochs, val_loss,label=\"val_loss\")\n",
        "  plt.title(\"loss\")\n",
        "  plt.xlabel(\"epochs\")\n",
        "  plt.ylabel(\"loss\")\n",
        "  plt.legend()\n",
        "\n",
        "  #Plot accuarcy\n",
        "  plt.figure()\n",
        "  plt.plot(epochs,accuracy,label=\"training accuracy\")\n",
        "  plt.plot(epochs, val_accuracy,label=\"val_accuracy\")\n",
        "  plt.title(\"Accuracy\")\n",
        "  plt.xlabel(\"epochs\")\n",
        "  plt.ylabel(\"accuracy\")\n",
        "  plt.legend()"
      ],
      "metadata": {
        "id": "lBM_3_fqcmDF"
      },
      "execution_count": null,
      "outputs": []
    },
    {
      "cell_type": "code",
      "source": [
        "plot_loss_curves(resnet_history)"
      ],
      "metadata": {
        "colab": {
          "base_uri": "https://localhost:8080/",
          "height": 573
        },
        "id": "m8t66CSzc8tF",
        "outputId": "2d84ba29-13ef-4fb9-857a-0761514e4cfe"
      },
      "execution_count": null,
      "outputs": [
        {
          "output_type": "display_data",
          "data": {
            "text/plain": [
              "<Figure size 432x288 with 1 Axes>"
            ],
            "image/png": "[encoded data removed]"
          },
          "metadata": {
            "needs_background": "light"
          }
        },
        {
          "output_type": "display_data",
          "data": {
            "text/plain": [
              "<Figure size 432x288 with 1 Axes>"
            ],
            "image/png": "[encoded data removed]"
          },
          "metadata": {
            "needs_background": "light"
          }
        }
      ]
    },
    {
      "cell_type": "markdown",
      "source": [
        "### Creating and testing EfficientNetB0 Tensorflow Hub feature extraction\n"
      ],
      "metadata": {
        "id": "AfvpHPBRdCQu"
      }
    },
    {
      "cell_type": "code",
      "source": [
        "efficientnet_model = create_model(efficientnet_url, num_classes = train_data.num_classes)\n"
      ],
      "metadata": {
        "id": "a3l5fb-hdov-"
      },
      "execution_count": null,
      "outputs": []
    },
    {
      "cell_type": "code",
      "source": [
        "efficientnet_model.compile(loss =\"categorical_crossentropy\",\n",
        "                     optimizer = tf.keras.optimizers.Adam(),\n",
        "                     metrics =[\"accuracy\"])"
      ],
      "metadata": {
        "id": "Aj2own6-d5SY"
      },
      "execution_count": null,
      "outputs": []
    },
    {
      "cell_type": "code",
      "source": [
        "history_efficientnet = efficientnet_model.fit(train_data,\n",
        "                                        epochs =5,\n",
        "                                        steps_per_epoch= len(train_data),\n",
        "                                        validation_data= test_data,\n",
        "                                        validation_steps = len(test_data),\n",
        "                                        callbacks =[create_tensorboard_callback(dir_name=\"tensorflow_hub\",\n",
        "                                                                                experiment_name =\"efficientnetb0\")])"
      ],
      "metadata": {
        "colab": {
          "base_uri": "https://localhost:8080/"
        },
        "id": "cfBxZcNZeGNw",
        "outputId": "7de7232f-59a1-460c-9099-c769fd01d799"
      },
      "execution_count": null,
      "outputs": [
        {
          "output_type": "stream",
          "name": "stdout",
          "text": [
            "Saving TensorBoard log files to : tensorflow_hub/efficientnetb0/20230222-093836\n",
            "Epoch 1/5\n",
            "24/24 [==============================] - 29s 791ms/step - loss: 1.8488 - accuracy: 0.4547 - val_loss: 1.3002 - val_accuracy: 0.7432\n",
            "Epoch 2/5\n",
            "24/24 [==============================] - 16s 676ms/step - loss: 1.0623 - accuracy: 0.7853 - val_loss: 0.8651 - val_accuracy: 0.8268\n",
            "Epoch 3/5\n",
            "24/24 [==============================] - 25s 1s/step - loss: 0.7530 - accuracy: 0.8373 - val_loss: 0.6964 - val_accuracy: 0.8452\n",
            "Epoch 4/5\n",
            "24/24 [==============================] - 25s 1s/step - loss: 0.6044 - accuracy: 0.8747 - val_loss: 0.6096 - val_accuracy: 0.8556\n",
            "Epoch 5/5\n",
            "24/24 [==============================] - 17s 729ms/step - loss: 0.5112 - accuracy: 0.8867 - val_loss: 0.5563 - val_accuracy: 0.8608\n"
          ]
        }
      ]
    },
    {
      "cell_type": "code",
      "source": [
        "plot_loss_curves(history_efficientnet)"
      ],
      "metadata": {
        "colab": {
          "base_uri": "https://localhost:8080/",
          "height": 573
        },
        "id": "20VPhMULe9O_",
        "outputId": "0556bfe9-c776-4692-e662-c0d6f08dcb12"
      },
      "execution_count": null,
      "outputs": [
        {
          "output_type": "display_data",
          "data": {
            "text/plain": [
              "<Figure size 432x288 with 1 Axes>"
            ],
            "image/png": "[encoded data removed]"
          },
          "metadata": {
            "needs_background": "light"
          }
        },
        {
          "output_type": "display_data",
          "data": {
            "text/plain": [
              "<Figure size 432x288 with 1 Axes>"
            ],
            "image/png": "[encoded data removed]"
          },
          "metadata": {
            "needs_background": "light"
          }
        }
      ]
    },
    {
      "cell_type": "code",
      "source": [
        "efficientnet_model.summary()"
      ],
      "metadata": {
        "colab": {
          "base_uri": "https://localhost:8080/"
        },
        "id": "8By7gzR2lEI1",
        "outputId": "943809f1-d85c-4608-bc56-f53a40163cf0"
      },
      "execution_count": null,
      "outputs": [
        {
          "output_type": "stream",
          "name": "stdout",
          "text": [
            "Model: \"sequential_3\"\n",
            "_________________________________________________________________\n",
            " Layer (type)                Output Shape              Param #   \n",
            "=================================================================\n",
            " feature_extraction_layer (K  (None, 1280)             4049564   \n",
            " erasLayer)                                                      \n",
            "                                                                 \n",
            " output_layer (Dense)        (None, 10)                12810     \n",
            "                                                                 \n",
            "=================================================================\n",
            "Total params: 4,062,374\n",
            "Trainable params: 12,810\n",
            "Non-trainable params: 4,049,564\n",
            "_________________________________________________________________\n"
          ]
        }
      ]
    },
    {
      "cell_type": "markdown",
      "source": [
        "## Different types of transfer learning\n",
        "\n",
        "* \"As is \" trannsfer learning - using an existing model with no changes what so ever (eg.)\n",
        "* \"Feature extraction\"\n",
        "* \"Fine-tuning \" - use perlearned patterns of an existing model and \"fine-tune\" many or all of undelying layers(including new output layers)"
      ],
      "metadata": {
        "id": "O8swcNGElTMT"
      }
    },
    {
      "cell_type": "code",
      "source": [
        "len(efficientnet_model.layers[0].weights)"
      ],
      "metadata": {
        "colab": {
          "base_uri": "https://localhost:8080/"
        },
        "id": "kqcMxemSmi1g",
        "outputId": "f5658019-feb9-430e-df2f-ede8a8aa3a10"
      },
      "execution_count": null,
      "outputs": [
        {
          "output_type": "execute_result",
          "data": {
            "text/plain": [
              "309"
            ]
          },
          "metadata": {},
          "execution_count": 49
        }
      ]
    },
    {
      "cell_type": "markdown",
      "source": [
        "## Comparing our models using TensorBoard\n",
        "\n",
        "when you upload things to TensorBoard.dev your experiments are public. So if you/re running private experiments (things don/t want other to see)"
      ],
      "metadata": {
        "id": "atJSkr_7m3Gl"
      }
    },
    {
      "cell_type": "code",
      "source": [
        "# Upload TensorBoard dev records\n",
        "!tensorboard dev upload --logdir ./tensorflow_hub/ \\\n",
        "  --name \"EfficientNetB0 vs. ResNet50V2\" \\\n",
        "  --description \"Comparing two different tf hub feature extractionmodel architectures using 10% of the training dat\"\\\n",
        "  --one_shot\n"
      ],
      "metadata": {
        "colab": {
          "base_uri": "https://localhost:8080/"
        },
        "id": "VRbwUzvEpIwW",
        "outputId": "cf2aea9d-d944-4c34-9ebd-90b0c7b7cbc0"
      },
      "execution_count": null,
      "outputs": [
        {
          "output_type": "stream",
          "name": "stdout",
          "text": [
            "2023-02-22 10:25:49.113037: W tensorflow/compiler/xla/stream_executor/platform/default/dso_loader.cc:64] Could not load dynamic library 'libnvinfer.so.7'; dlerror: libnvinfer.so.7: cannot open shared object file: No such file or directory; LD_LIBRARY_PATH: /usr/lib64-nvidia\n",
            "2023-02-22 10:25:49.113140: W tensorflow/compiler/xla/stream_executor/platform/default/dso_loader.cc:64] Could not load dynamic library 'libnvinfer_plugin.so.7'; dlerror: libnvinfer_plugin.so.7: cannot open shared object file: No such file or directory; LD_LIBRARY_PATH: /usr/lib64-nvidia\n",
            "2023-02-22 10:25:49.113159: W tensorflow/compiler/tf2tensorrt/utils/py_utils.cc:38] TF-TRT Warning: Cannot dlopen some TensorRT libraries. If you would like to use Nvidia GPU with TensorRT, please make sure the missing libraries mentioned above are installed properly.\n",
            "\n",
            "***** TensorBoard Uploader *****\n",
            "\n",
            "This will upload your TensorBoard logs to https://tensorboard.dev/ from\n",
            "the following directory:\n",
            "\n",
            "./tensorflow_hub/\n",
            "\n",
            "This TensorBoard will be visible to everyone. Do not upload sensitive\n",
            "data.\n",
            "\n",
            "Your use of this service is subject to Google's Terms of Service\n",
            "<https://policies.google.com/terms> and Privacy Policy\n",
            "<https://policies.google.com/privacy>, and TensorBoard.dev's Terms of Service\n",
            "<https://tensorboard.dev/policy/terms/>.\n",
            "\n",
            "This notice will not be shown again while you are logged into the uploader.\n",
            "To log out, run `tensorboard dev auth revoke`.\n",
            "\n",
            "Continue? (yes/NO) yes\n",
            "\n",
            "To sign in with the TensorBoard uploader:\n",
            "\n",
            "1. On your computer or phone, visit:\n",
            "\n",
            "   https://www.google.com/device\n",
            "\n",
            "2. Sign in with your Google account, then enter:\n",
            "\n",
            "   WXB-HPJ-YLY\n",
            "\n",
            "\n",
            "\n",
            "New experiment created. View your TensorBoard at: https://tensorboard.dev/experiment/MTpOqULIQZ6zQaconBFpJA/\n",
            "\n",
            "\u001b[1m[2023-02-22T10:28:39]\u001b[0m Started scanning logdir.\n",
            "\u001b[1m[2023-02-22T10:28:43]\u001b[0m Total uploaded: 60 scalars, 0 tensors, 2 binary objects (5.5 MB)\n",
            "\u001b[1m[2023-02-22T10:28:43]\u001b[0m Done scanning logdir.\n",
            "\n",
            "\n",
            "Done. View your TensorBoard at https://tensorboard.dev/experiment/MTpOqULIQZ6zQaconBFpJA/\n"
          ]
        }
      ]
    },
    {
      "cell_type": "code",
      "source": [
        "# Check out what TensorBoard experiments you have \n",
        "! tensorboard dev list"
      ],
      "metadata": {
        "colab": {
          "base_uri": "https://localhost:8080/"
        },
        "id": "QShZF3GGp4eX",
        "outputId": "786dd7a0-6672-45b8-b636-8da51c51b3dc"
      },
      "execution_count": null,
      "outputs": [
        {
          "output_type": "stream",
          "name": "stdout",
          "text": [
            "2023-02-22 10:33:10.642468: W tensorflow/compiler/xla/stream_executor/platform/default/dso_loader.cc:64] Could not load dynamic library 'libnvinfer.so.7'; dlerror: libnvinfer.so.7: cannot open shared object file: No such file or directory; LD_LIBRARY_PATH: /usr/lib64-nvidia\n",
            "2023-02-22 10:33:10.642568: W tensorflow/compiler/xla/stream_executor/platform/default/dso_loader.cc:64] Could not load dynamic library 'libnvinfer_plugin.so.7'; dlerror: libnvinfer_plugin.so.7: cannot open shared object file: No such file or directory; LD_LIBRARY_PATH: /usr/lib64-nvidia\n",
            "2023-02-22 10:33:10.642587: W tensorflow/compiler/tf2tensorrt/utils/py_utils.cc:38] TF-TRT Warning: Cannot dlopen some TensorRT libraries. If you would like to use Nvidia GPU with TensorRT, please make sure the missing libraries mentioned above are installed properly.\n",
            "https://tensorboard.dev/experiment/MTpOqULIQZ6zQaconBFpJA/\n",
            "\tName                 EfficientNetB0 vs. ResNet50V2\n",
            "\tDescription          Comparing two different tf hub feature extractionmodel architectures using 10% of the training dat\n",
            "\tId                   MTpOqULIQZ6zQaconBFpJA\n",
            "\tCreated              2023-02-22 10:28:39 (4 minutes ago)\n",
            "\tUpdated              2023-02-22 10:28:43 (4 minutes ago)\n",
            "\tRuns                 4\n",
            "\tTags                 5\n",
            "\tScalars              60\n",
            "\tTensor bytes         0\n",
            "\tBinary object bytes  5811555\n",
            "Total: 1 experiment(s)\n"
          ]
        }
      ]
    },
    {
      "cell_type": "code",
      "source": [
        "# Delete an experiment\n",
        "# !tensoboard dev delete --experiment_id MTpOqULIQZ6zQaconBFpJA"
      ],
      "metadata": {
        "id": "YUNeMPDTrx3R"
      },
      "execution_count": null,
      "outputs": []
    },
    {
      "cell_type": "code",
      "source": [],
      "metadata": {
        "id": "YpvoI7cAsKsI"
      },
      "execution_count": null,
      "outputs": []
    }
  ]
}